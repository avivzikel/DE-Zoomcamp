{
 "cells": [
  {
   "cell_type": "code",
   "execution_count": null,
   "id": "catholic-venice",
   "metadata": {},
   "outputs": [],
   "source": [
    "import pandas as pd\n",
    "from sqlalchemy import create_engine\n",
    "import os\n",
    "from time import time\n",
    "import argparse"
   ]
  },
  {
   "cell_type": "markdown",
   "id": "touched-correlation",
   "metadata": {},
   "source": [
    "# Defining SQL table using pandas."
   ]
  },
  {
   "cell_type": "code",
   "execution_count": null,
   "id": "round-server",
   "metadata": {
    "tags": [
     "parameters"
    ]
   },
   "outputs": [],
   "source": [
    "user = \"\"\n",
    "password = \"\"\n",
    "host = \"\"\n",
    "port = 0\n",
    "db = \"\"\n",
    "table_name = \"\"\n",
    "csv_name = \"\""
   ]
  },
  {
   "cell_type": "code",
   "execution_count": null,
   "id": "narrow-resource",
   "metadata": {},
   "outputs": [],
   "source": [
    "params = {\"user\":user,\"password\":password,\"host\":host,\"port\":port,\"db\":db,\"table_name\":table_name,\"csv_name\":csv_name}"
   ]
  },
  {
   "cell_type": "code",
   "execution_count": null,
   "id": "informed-bulgarian",
   "metadata": {},
   "outputs": [],
   "source": [
    "def main(params):\n",
    "    user = params['user']\n",
    "    password = params['password']\n",
    "    host = params['host']\n",
    "    port = params['port']\n",
    "    db = params['db']\n",
    "    table_name = params['table_name']\n",
    "    csv_name = params['csv_name']\n",
    "    \n",
    "    print(user)\n",
    "\n",
    "    engine = create_engine(f'postgresql://{user}:{password}@{host}:{port}/{db}')\n",
    "\n",
    "    df_iter = pd.read_csv(csv_name, iterator=True, chunksize=100000)\n",
    "\n",
    "    df = next(df_iter)\n",
    "\n",
    "    df.tpep_pickup_datetime = pd.to_datetime(df.tpep_pickup_datetime)\n",
    "    df.tpep_dropoff_datetime = pd.to_datetime(df.tpep_dropoff_datetime)\n",
    "\n",
    "    df.head(n=0).to_sql(name=table_name, con=engine, if_exists='replace')\n",
    "\n",
    "    df.to_sql(name=table_name, con=engine, if_exists='append')\n",
    "\n",
    "    while True:\n",
    "        t_start = time()\n",
    "\n",
    "        df = next(df_iter)\n",
    "\n",
    "        df.tpep_pickup_datetime = pd.to_datetime(df.tpep_pickup_datetime)\n",
    "        df.tpep_dropoff_datetime = pd.to_datetime(df.tpep_dropoff_datetime)\n",
    "\n",
    "        df.to_sql(name=table_name, con=engine, if_exists='append')\n",
    "\n",
    "        t_end = time()\n",
    "\n",
    "        print('inserted another chunk, took %.3f second' % (t_end - t_start))"
   ]
  },
  {
   "cell_type": "code",
   "execution_count": null,
   "id": "overhead-graphic",
   "metadata": {},
   "outputs": [],
   "source": [
    "main (params)"
   ]
  },
  {
   "cell_type": "code",
   "execution_count": null,
   "id": "corrected-arrangement",
   "metadata": {},
   "outputs": [],
   "source": []
  }
 ],
 "metadata": {
  "kernelspec": {
   "display_name": "Python 3",
   "language": "python",
   "name": "python3"
  },
  "language_info": {
   "codemirror_mode": {
    "name": "ipython",
    "version": 3
   },
   "file_extension": ".py",
   "mimetype": "text/x-python",
   "name": "python",
   "nbconvert_exporter": "python",
   "pygments_lexer": "ipython3",
   "version": "3.9.5"
  }
 },
 "nbformat": 4,
 "nbformat_minor": 5
}
