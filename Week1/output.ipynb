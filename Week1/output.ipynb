{
 "cells": [
  {
   "cell_type": "markdown",
   "id": "filled-continuity",
   "metadata": {
    "tags": [
     "papermill-error-cell-tag"
    ]
   },
   "source": [
    "<span style=\"color:red; font-family:Helvetica Neue, Helvetica, Arial, sans-serif; font-size:2em;\">An Exception was encountered at '<a href=\"#papermill-error-cell\">In [6]</a>'.</span>"
   ]
  },
  {
   "cell_type": "code",
   "execution_count": null,
   "id": "polyphonic-wrong",
   "metadata": {
    "execution": {
     "iopub.execute_input": "2022-02-19T18:16:44.494886Z",
     "iopub.status.busy": "2022-02-19T18:16:44.494886Z",
     "iopub.status.idle": "2022-02-19T18:16:45.027161Z",
     "shell.execute_reply": "2022-02-19T18:16:45.027161Z"
    },
    "papermill": {
     "duration": 0.542265,
     "end_time": "2022-02-19T18:16:45.027161",
     "exception": false,
     "start_time": "2022-02-19T18:16:44.484896",
     "status": "completed"
    },
    "tags": []
   },
   "outputs": [],
   "source": [
    "import pandas as pd\n",
    "from sqlalchemy import create_engine\n",
    "import os\n",
    "from time import time\n",
    "import argparse"
   ]
  },
  {
   "cell_type": "markdown",
   "id": "senior-gender",
   "metadata": {
    "papermill": {
     "duration": 0.003987,
     "end_time": "2022-02-19T18:16:45.036149",
     "exception": false,
     "start_time": "2022-02-19T18:16:45.032162",
     "status": "completed"
    },
    "tags": []
   },
   "source": [
    "# Defining SQL table using pandas."
   ]
  },
  {
   "cell_type": "code",
   "execution_count": null,
   "id": "attractive-geometry",
   "metadata": {
    "execution": {
     "iopub.execute_input": "2022-02-19T18:16:45.047732Z",
     "iopub.status.busy": "2022-02-19T18:16:45.047732Z",
     "iopub.status.idle": "2022-02-19T18:16:45.057734Z",
     "shell.execute_reply": "2022-02-19T18:16:45.057734Z"
    },
    "papermill": {
     "duration": 0.016996,
     "end_time": "2022-02-19T18:16:45.057734",
     "exception": false,
     "start_time": "2022-02-19T18:16:45.040738",
     "status": "completed"
    },
    "tags": [
     "parameters"
    ]
   },
   "outputs": [],
   "source": [
    "user = \"\"\n",
    "password = \"\"\n",
    "host = \"\"\n",
    "port = 0\n",
    "db = \"\"\n",
    "table_name = \"\"\n",
    "csv_name = \"\""
   ]
  },
  {
   "cell_type": "code",
   "execution_count": null,
   "id": "arctic-mechanism",
   "metadata": {
    "execution": {
     "iopub.execute_input": "2022-02-19T18:16:45.069749Z",
     "iopub.status.busy": "2022-02-19T18:16:45.068754Z",
     "iopub.status.idle": "2022-02-19T18:16:45.072754Z",
     "shell.execute_reply": "2022-02-19T18:16:45.071745Z"
    },
    "papermill": {
     "duration": 0.011001,
     "end_time": "2022-02-19T18:16:45.072754",
     "exception": false,
     "start_time": "2022-02-19T18:16:45.061753",
     "status": "completed"
    },
    "tags": [
     "injected-parameters"
    ]
   },
   "outputs": [],
   "source": [
    "# Parameters\n",
    "user = \"root\"\n",
    "password = \"root\"\n",
    "host = \"localhost\"\n",
    "port = 5432\n",
    "db = \"ny_taxi\"\n",
    "table_name = \"yellow_taxi_data\"\n",
    "csv_name = \"yellow_tripdata_2021-01.csv\"\n"
   ]
  },
  {
   "cell_type": "code",
   "execution_count": null,
   "id": "solid-provincial",
   "metadata": {
    "execution": {
     "iopub.execute_input": "2022-02-19T18:16:45.083737Z",
     "iopub.status.busy": "2022-02-19T18:16:45.082735Z",
     "iopub.status.idle": "2022-02-19T18:16:45.089739Z",
     "shell.execute_reply": "2022-02-19T18:16:45.089739Z"
    },
    "papermill": {
     "duration": 0.013986,
     "end_time": "2022-02-19T18:16:45.089739",
     "exception": false,
     "start_time": "2022-02-19T18:16:45.075753",
     "status": "completed"
    },
    "tags": []
   },
   "outputs": [],
   "source": [
    "params = {\"user\":user,\"password\":password,\"host\":host,\"port\":port,\"db\":db,\"table_name\":table_name,\"csv_name\":csv_name}"
   ]
  },
  {
   "cell_type": "code",
   "execution_count": null,
   "id": "alert-elder",
   "metadata": {
    "execution": {
     "iopub.execute_input": "2022-02-19T18:16:45.102743Z",
     "iopub.status.busy": "2022-02-19T18:16:45.102743Z",
     "iopub.status.idle": "2022-02-19T18:16:45.119733Z",
     "shell.execute_reply": "2022-02-19T18:16:45.120747Z"
    },
    "papermill": {
     "duration": 0.027014,
     "end_time": "2022-02-19T18:16:45.120747",
     "exception": false,
     "start_time": "2022-02-19T18:16:45.093733",
     "status": "completed"
    },
    "tags": []
   },
   "outputs": [],
   "source": [
    "def main(params):\n",
    "    user = params['user']\n",
    "    password = params['password']\n",
    "    host = params['host']\n",
    "    port = params['port']\n",
    "    db = params['db']\n",
    "    table_name = params['table_name']\n",
    "    csv_name = params['csv_name']\n",
    "    \n",
    "    print(user)\n",
    "\n",
    "    engine = create_engine(f'postgresql://{user}:{password}@{host}:{port}/{db}')\n",
    "\n",
    "    df_iter = pd.read_csv(csv_name, iterator=True, chunksize=100000)\n",
    "\n",
    "    df = next(df_iter)\n",
    "\n",
    "    df.tpep_pickup_datetime = pd.to_datetime(df.tpep_pickup_datetime)\n",
    "    df.tpep_dropoff_datetime = pd.to_datetime(df.tpep_dropoff_datetime)\n",
    "\n",
    "    df.head(n=0).to_sql(name=table_name, con=engine, if_exists='replace')\n",
    "\n",
    "    df.to_sql(name=table_name, con=engine, if_exists='append')\n",
    "\n",
    "    while True:\n",
    "        t_start = time()\n",
    "\n",
    "        df = next(df_iter)\n",
    "\n",
    "        df.tpep_pickup_datetime = pd.to_datetime(df.tpep_pickup_datetime)\n",
    "        df.tpep_dropoff_datetime = pd.to_datetime(df.tpep_dropoff_datetime)\n",
    "\n",
    "        df.to_sql(name=table_name, con=engine, if_exists='append')\n",
    "\n",
    "        t_end = time()\n",
    "\n",
    "        print('inserted another chunk, took %.3f second' % (t_end - t_start))"
   ]
  },
  {
   "cell_type": "code",
   "execution_count": null,
   "id": "encouraging-adaptation",
   "metadata": {
    "execution": {
     "iopub.execute_input": "2022-02-19T18:16:45.132743Z",
     "iopub.status.busy": "2022-02-19T18:16:45.132743Z",
     "iopub.status.idle": "2022-02-19T18:18:34.953198Z",
     "shell.execute_reply": "2022-02-19T18:18:34.952196Z"
    },
    "papermill": {
     "duration": 109.828445,
     "end_time": "2022-02-19T18:18:34.953198",
     "exception": true,
     "start_time": "2022-02-19T18:16:45.124753",
     "status": "failed"
    },
    "tags": []
   },
   "outputs": [],
   "source": [
    "main (params)"
   ]
  },
  {
   "cell_type": "code",
   "execution_count": null,
   "id": "signal-georgia",
   "metadata": {
    "papermill": {
     "duration": null,
     "end_time": null,
     "exception": null,
     "start_time": null,
     "status": "pending"
    },
    "tags": []
   },
   "outputs": [],
   "source": []
  }
 ],
 "metadata": {
  "kernelspec": {
   "display_name": "Python 3",
   "language": "python",
   "name": "python3"
  },
  "language_info": {
   "codemirror_mode": {
    "name": "ipython",
    "version": 3
   },
   "file_extension": ".py",
   "mimetype": "text/x-python",
   "name": "python",
   "nbconvert_exporter": "python",
   "pygments_lexer": "ipython3",
   "version": "3.9.5"
  },
  "papermill": {
   "default_parameters": {},
   "duration": 112.516526,
   "end_time": "2022-02-19T18:18:35.303796",
   "environment_variables": {},
   "exception": true,
   "input_path": "ny-taxi-data-upload.ipynb",
   "output_path": "output.ipynb",
   "parameters": {
    "csv_name": "yellow_tripdata_2021-01.csv",
    "db": "ny_taxi",
    "host": "localhost",
    "password": "root",
    "port": 5432,
    "table_name": "yellow_taxi_data",
    "user": "root"
   },
   "start_time": "2022-02-19T18:16:42.787270",
   "version": "2.3.4"
  }
 },
 "nbformat": 4,
 "nbformat_minor": 5
}
